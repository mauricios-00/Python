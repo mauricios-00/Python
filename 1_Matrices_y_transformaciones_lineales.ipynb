{
  "nbformat": 4,
  "nbformat_minor": 0,
  "metadata": {
    "colab": {
      "name": "Matrices y transformaciones lineales.ipynb",
      "provenance": [],
      "authorship_tag": "ABX9TyOH6YOOzLam+kp8N+mc+ua1",
      "include_colab_link": true
    },
    "kernelspec": {
      "name": "python3",
      "display_name": "Python 3"
    },
    "language_info": {
      "name": "python"
    }
  },
  "cells": [
    {
      "cell_type": "markdown",
      "metadata": {
        "id": "view-in-github",
        "colab_type": "text"
      },
      "source": [
        "<a href=\"https://colab.research.google.com/github/mauricios-00/Python/blob/master/1_Matrices_y_transformaciones_lineales.ipynb\" target=\"_parent\"><img src=\"https://colab.research.google.com/assets/colab-badge.svg\" alt=\"Open In Colab\"/></a>"
      ]
    },
    {
      "cell_type": "code",
      "execution_count": null,
      "metadata": {
        "id": "scKuZjWJ5eSX"
      },
      "outputs": [],
      "source": [
        ""
      ]
    }
  ]
}