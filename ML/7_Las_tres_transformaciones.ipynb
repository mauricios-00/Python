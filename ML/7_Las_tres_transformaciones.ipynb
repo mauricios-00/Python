{
  "nbformat": 4,
  "nbformat_minor": 0,
  "metadata": {
    "colab": {
      "name": "7-Las tres transformaciones",
      "provenance": [],
      "collapsed_sections": [],
      "authorship_tag": "ABX9TyMvK9/HlmO5UIZeYmi3NdyP",
      "include_colab_link": true
    },
    "kernelspec": {
      "name": "python3",
      "display_name": "Python 3"
    },
    "language_info": {
      "name": "python"
    }
  },
  "cells": [
    {
      "cell_type": "markdown",
      "metadata": {
        "id": "view-in-github",
        "colab_type": "text"
      },
      "source": [
        "<a href=\"https://colab.research.google.com/github/mauricios-00/Python/blob/master/ML/7_Las_tres_transformaciones.ipynb\" target=\"_parent\"><img src=\"https://colab.research.google.com/assets/colab-badge.svg\" alt=\"Open In Colab\"/></a>"
      ]
    },
    {
      "cell_type": "markdown",
      "source": [
        "Cuando pensamos a las matrices, las pensamos como transforamciones lineales\n",
        "* etonces si tenemos una matriz $A$ y la podemos descomponer en otras tres matrices, esto quiere decir que a cada una de estas tres matrices, las podemos pensar también como sus propias tranformaciones lineales\n",
        "\n",
        "* *  veamos cuáles son los efectos de cada una de estas transformaciones sobre el círculo unitario, será sobre este porque será mas fácil ver sus efectos\n",
        "\n",
        "      Lo  cierto es que estas transformaciones se aplican independientemente de los vectores a los que se los estemos aplicando  \n",
        "\n",
        "\n",
        " como vamos a estar graficando el círculo unitario en varias ocaciones, lo que se hará es definir una función que nos permita hacer un mapeo, o sea definir las transformaciones que va a estar teniendo nuestro círculo unitario sin tener que estar reescribiéndolas todo el tiempo.\n",
        "\n",
        "\n",
        "\n",
        "\n",
        "\n",
        "\n"
      ],
      "metadata": {
        "id": "rMnSgXVm4gC-"
      }
    },
    {
      "cell_type": "markdown",
      "source": [
        "\n",
        "#### Función para el círculo unitario\n",
        "\n",
        "Declarar en una función (def) que estará iterando sobre matrices los siguiente parámetros:\n",
        "* la matriz\n",
        "* definir el color de los vectores, que tomará por defecto el verde y el naranja\n",
        "\n",
        "de la siguiente forma:\n",
        "`def graficarMatriz(matriz , vectorCol=[\"orange\",\"green\"])`\n",
        "\n",
        "#### definir el circulo unitario\n",
        "\n",
        "Declarar una variable en representación del eje \"x\", invocar a la función `np.linspace()` con los los siguiente parámetros:\n",
        "* (-1, 1) : se aclaran los valores que tomará de nuestro espacio \n",
        "* los puntos que queremos dentro de x (la resolución) \n",
        "\n",
        "Declarar la variable en representación del eje \"y\", qu será el cálculo de la raíz cuadrada, por lo que se usará la función: `np.sqrt()`\n",
        "* por medio de esta de hará la representación matemática de un círculo: \n",
        "`np.sqrt(1-(x**2))`  \n",
        "\n",
        "quedando los ejes de la siguiente forma: ` x= np.linspace(-1,1 , 100000) , y = np.sqrt(1-(x**2))`\n",
        "\n",
        "### Definir círculo unitario transformado\n",
        "\n",
        "**1-**Hay que especificar cómo será el círculo unitario después de aplicarle la matriz, lo que nos dará  un $x_1$, calculando:\n",
        "* la matriz en la coordenada $[0,0]$ multiplicada por \"x\"\n",
        "* sumada por la matriz en el $[0,1]$ multiplicado por \"y\"\n",
        " de la siguiente forma: `x1 = matriz[0,0]*x + matriz[0,1]*y`\n",
        "\n",
        "**2-** Hacer lo mismo pero para la coordenada \"y1\" pero haciendo la siguiente modificación en las coordenadas:\n",
        "* la matriz en la coordenada $[1,0]$ multiplicada por $x$\n",
        "* sumada por la matriz en el $[1,1]$ multiplicado por $y$\n",
        " de la siguiente forma: `y1 = matriz[1,0]*x + matriz[1,1]*y`\n",
        "\n",
        "#### -Con esto se ha hecho la parte  de $x , y$ positivas , ahora hay que resolver las coordenadas $x , y$ negativas\n",
        "\n",
        "**3-**con las coordenadas negativas:\n",
        "haceindo la coordenada \"x1 negativa\", lo que está debajo es:\n",
        "* la matriz en el $[0,0]$  multiplicado por \"x\" \n",
        "* menos la matriz en el $[0,1]$ muliplicado por $y$\n",
        "de la siguiente forma: `x1_neg = matriz[0,0]*x - matriz[0,1]* y`\n",
        "\n",
        "**4-**Hacer lo mismo pero con las coordenadas negativas de $y_1$:\n",
        "* la matriz en el $[1,0]$  multiplicado por $x$ \n",
        "* menos la matriz en el $[1,1]$ muliplicado por $y$\n",
        "de la siguiente forma: `x1_neg = matriz[1,0]*x - matriz[1,1]* y`\n",
        "\n",
        "#### Definir los vectores \n",
        "\n",
        "**5-**\n",
        "**coordenadas positivas con x:** asignando a $u_i$ a los vectores respectivamente: En este caso será solo en las \"x\" positivas  : $x_1$\n",
        "* Será la matriz en el origen $[0,0]$ junto con la misma matriz en el punto $[1,0]$\n",
        "`u1 =[matriz[0,0], matriz[1,0]]`\n",
        "\n",
        "**6-**\n",
        "**coordenadas positivas con y:**asignando a $v_i$ a los vectores, que\n",
        "es lo que está generando nuestro espacio. \n",
        "* Serían los vectores que producen el espacio: En este caso se usarán las $y$ positivas  : $y_1$ \n",
        "`v1 = [matriz[0,1] , matriz[1,1]]`\n",
        "\n",
        "**7-**\n",
        "Finalmente, se invorará a la función auxiliar para graficar los vectores, con parámetros:\n",
        "* `u1` la cuál almacena la matriz  que invoca las coordenadas $\\text {sub}_0$ de $x_1 , y_1$ respectivamente\n",
        "* * O sea estas: $[0,0]$ y $[1,0]$ \n",
        "* `v1` la cuál almacena la matriz que invoca las coordenadas $\\text {sub}_1$ de $x_1 , y_1$ respectivamente\n",
        "* * o sea estas: $[0,1] $ , $[1,1]$\n",
        "* `cols = ` aclarar que los colores que tendrá el  $\\text {vectorCol}_0$ ( posición 0) , y el  mismo en posición 1 $\\text {vectorCol}_1$\n",
        "\n",
        "de la siguiente forma: `graficarVectores([u1 , v1], cols =[vectorCol[0], vectorCol[1]])`\n",
        "\n",
        "*esto funciona para dos dimensiones*\n",
        "\n",
        "**7.1-**\n",
        "invocar a la función `plt.plot()` con parámetros: \n",
        "* `x1,y1` coordenadas positivas que están transformadas\n",
        "* `'green'` aclarar el color\n",
        "* `alpha = 0.7` aclarar nivel de transparencia (opacidad)\n",
        "\n",
        "* hacer esto mismo con las coordenadas negativas transformadas en otro `plt.plot()`\n",
        "\n",
        "quedaría de la siguiente forma:\n",
        "`plt.plot(x1 , y1 , 'green') , plt.plot(x1_neg , y1_neg, 'orange')`\n",
        "\n",
        "\n",
        "Dado que se usará multpiles veces, colocar la función (def) en un documento a parte\n",
        "\n",
        "\n",
        "\n"
      ],
      "metadata": {
        "id": "ggQ1HQrwedmN"
      }
    },
    {
      "cell_type": "code",
      "source": [
        "import numpy as np\n",
        "import matplotlib.pyplot as plt"
      ],
      "metadata": {
        "id": "9utb2aHt4KP7"
      },
      "execution_count": null,
      "outputs": []
    },
    {
      "cell_type": "code",
      "execution_count": null,
      "metadata": {
        "id": "Aa9YTJMd4Axc"
      },
      "outputs": [],
      "source": [
        "def graficarMatriz(matriz , vectorCol=['blue', 'red']):\n",
        "\n",
        "  círculo unitario\n",
        "  x = np.linspace(-1, 1 , 100000)\n",
        "  y = np.sqrt(1-(x**2))\n",
        "\n",
        "   círculo unitario transformado\n",
        "  \n",
        "       #positivas\n",
        "  x1 = matriz[0,0] * x + matriz[0,1] * y\n",
        "  y1 = matriz [1,0] * x + matriz [1,1] * y\n",
        "\n",
        "       #negativas\n",
        "  x1_neg = matriz[0,0] * x - matriz [0,1] * y\n",
        "  y1_neg = matriz[1,0] * x - matriz[1,1] * y\n",
        "\n",
        "  #vectores\n",
        "       # coordenadas x\n",
        "  u1 = [matriz[0,0], matriz[0,1]]\n",
        "       # coordenadas y\n",
        "  v1 = [matriz[1,0], matriz[1,1]]\n",
        "\n",
        "  graficarVectores([u1 , v1], cols = [vectorCol[0], vectorCol[1]])\n",
        "\n",
        "  plt.plot(x1 , y1 , 'green' , alpha = 0.7)\n",
        "  plt.plot(x1_neg , y1_neg , 'orange' alpha = 0.7)\n",
        "\n"
      ]
    },
    {
      "cell_type": "code",
      "source": [
        "from google.colab import drive\n",
        "drive.mount('/content/drive')\n",
        "%cd '/content/drive/ My Drive'"
      ],
      "metadata": {
        "id": "vbtEO5vp4czj",
        "colab": {
          "base_uri": "https://localhost:8080/"
        },
        "outputId": "94da6c35-78cf-46a9-ef83-045d486682c2"
      },
      "execution_count": null,
      "outputs": [
        {
          "output_type": "stream",
          "name": "stdout",
          "text": [
            "Mounted at /content/drive\n",
            "/content/drive/ My Drive\n"
          ]
        }
      ]
    },
    {
      "cell_type": "code",
      "source": [
        "%run \"./Algebra_lineal_ML/funciones_auxiliares/graficar_matrices.ipynb\"\n",
        "%run \"./Algebra_lineal_ML/funciones_auxiliares/graficar_vectores.ipynb\""
      ],
      "metadata": {
        "id": "jEUQcYN0tmoE"
      },
      "execution_count": null,
      "outputs": []
    },
    {
      "cell_type": "markdown",
      "source": [
        "Definimos una matriz: $ t$\n",
        "`A = np.array([[ 3 , 7 ],[ 5 , 2 ]])` "
      ],
      "metadata": {
        "id": "efGafpfyxCwS"
      }
    },
    {
      "cell_type": "code",
      "source": [
        " A = np.array([[3,7],[5,2]])\n",
        " print(A)"
      ],
      "metadata": {
        "colab": {
          "base_uri": "https://localhost:8080/"
        },
        "id": "505Qr2IhxovB",
        "outputId": "54eac93f-88bc-4225-daf9-4abbac412f2e"
      },
      "execution_count": null,
      "outputs": [
        {
          "output_type": "stream",
          "name": "stdout",
          "text": [
            "[[3 7]\n",
            " [5 2]]\n"
          ]
        }
      ]
    },
    {
      "cell_type": "markdown",
      "source": [
        "Imprimimos el círculo unitario que estará dado por:\n",
        "* función auxiliar invocada desde otro documento: `graficarM` con parámetros:\n",
        "* Aplicando la función (def) a la matriz que se acaba de declarar y sin ningún tipi de modificación, por lo que entregamos es la matriz identidad: $\\begin {bmatrix} 1&0 \\\\ 0 & 1 \\end {bmatrix}$ \n",
        "* * recordando: La matriz identidad devuelve $0$ transformaciones \n",
        "\n",
        "    de la siguiente forma: `graficar_Matriz([[1,0],[0,1]])`\n",
        "\n",
        "luego hay que definir el rango de los límites:\n",
        "`plt.xlim(-2,2) , plt.ylim(-2,2) , plt.show()`\n",
        "\n",
        "Ahora también queremos ver qué es lo que ocurre con nuestro círculo unitario cuando lo transformamos, en este caso, transformarlo equivale a invocar a la función auxiliar de las matrices que haga el mismo proceso anterior, pero para la matriz $A$ \n",
        "* pero en lugar de pasarle cuáles son los valores de la matriz identidad, le pediremos que grafique la matriz $A$\n",
        "\n"
      ],
      "metadata": {
        "id": "a1aO-7rLx-ti"
      }
    },
    {
      "cell_type": "code",
      "source": [
        "print(f'Círculo unitario:')\n",
        "graficarMatriz(np.array([[1,0],[0,1]]))\n",
        "\n",
        "plt.xlim(-1.5,1.5)\n",
        "plt.ylim(-1.5,1.5)\n",
        "plt.show()"
      ],
      "metadata": {
        "colab": {
          "base_uri": "https://localhost:8080/",
          "height": 287
        },
        "id": "AINz7KU41L2z",
        "outputId": "31394fbd-9cd1-4a67-a4b7-55ce2bba0a3a"
      },
      "execution_count": null,
      "outputs": [
        {
          "output_type": "stream",
          "name": "stdout",
          "text": [
            "Círculo unitario:\n"
          ]
        },
        {
          "output_type": "display_data",
          "data": {
            "text/plain": [
              "<Figure size 432x288 with 1 Axes>"
            ],
            "image/png": "[encoded data removed]"
          },
          "metadata": {
            "needs_background": "light"
          }
        }
      ]
    },
    {
      "cell_type": "markdown",
      "source": [
        "Tenemos el círculo unitario donde vemos nuestros vectores: $[0,1]$ (azul) y el $[0,1]$ (rojo) \n",
        "\n",
        "dada la matrizidentidad $\\begin {bmatrix} 1&0 \\\\ 0 & 1 \\end {bmatrix}$ "
      ],
      "metadata": {
        "id": "Z8lodRSL2LTh"
      }
    },
    {
      "cell_type": "code",
      "source": [
        ""
      ],
      "metadata": {
        "id": "VBsG8dC54ghg"
      },
      "execution_count": null,
      "outputs": []
    },
    {
      "cell_type": "code",
      "source": [
        "print(\"Círculo unitario transformado:\")\n",
        "graficarMatriz(A)\n",
        "\n",
        "plt.xlim(-8,8)\n",
        "plt.ylim(-8,8)\n",
        "plt.grid()\n",
        "plt.show()"
      ],
      "metadata": {
        "colab": {
          "base_uri": "https://localhost:8080/",
          "height": 287
        },
        "id": "C-VLX2Ky2V5O",
        "outputId": "64aef081-d061-46b8-91fa-c1080b4e74ad"
      },
      "execution_count": null,
      "outputs": [
        {
          "output_type": "stream",
          "name": "stdout",
          "text": [
            "Círculo unitario transformado:\n"
          ]
        },
        {
          "output_type": "display_data",
          "data": {
            "text/plain": [
              "<Figure size 432x288 with 1 Axes>"
            ],
            "image/png": "[encoded data removed]"
          },
          "metadata": {
            "needs_background": "light"
          }
        }
      ]
    },
    {
      "cell_type": "markdown",
      "source": [
        "Podemos ver que cuando el círculo unitario es transformado, obtenemos el vector ha bajado a las coordenadas $[7,2]$ (rojo) \n",
        "* El vector $[0,1]$ se trasladó hacia abajo $[7,2]$\n",
        "\n",
        "* Por otro lado, el vector ubicado en $[1,0]$ subió a $[3,5]$\n",
        "\n",
        "*Aquí vimos el efecto que tiene nuestra matriz A en el círculo unitario*\n",
        "\n",
        "Para ver el efecto que está teniendo cada una de las matrices dentro de la descompocisión \"SVD\": "
      ],
      "metadata": {
        "id": "-GQ1A0Ez3Cu5"
      }
    },
    {
      "cell_type": "markdown",
      "source": [
        "### Aplicación de las matrices U, V , D  y su efecto en la transformación\n",
        "\n",
        "La descomposición \"SVD\" nos devuelve 3 matrices para nuestra matriz original, estos los efectos que tiene cada una de ellas en la transformación:\n",
        "\n",
        "\n",
        "Comenzamos con la transformación declarando las variables respectivas `U, V, D`, donde se almacenará el resultado de la descomponer matriz calculando los valores singulares.\n",
        "* Para ello hay que invocar a la función `np.linalg.svd()` utilizando la matriz de análisis ($A$) como parámetro \n",
        "\n",
        "\n",
        "\n"
      ],
      "metadata": {
        "id": "bgUEGcq7_YAx"
      }
    },
    {
      "cell_type": "code",
      "source": [
        "U,D,V = np.linalg.svd(A)\n",
        "print(f' U:\\n{U}\\nD:\\n{np.diag(D)}\\nV:\\n{V}')"
      ],
      "metadata": {
        "colab": {
          "base_uri": "https://localhost:8080/"
        },
        "id": "PIqe_Rwkis8p",
        "outputId": "c5d83790-827e-4c1e-9aa0-772d21990e15"
      },
      "execution_count": null,
      "outputs": [
        {
          "output_type": "stream",
          "name": "stdout",
          "text": [
            " U:\n",
            "[[-0.85065081 -0.52573111]\n",
            " [-0.52573111  0.85065081]]\n",
            "D:\n",
            "[[8.71337969 0.        ]\n",
            " [0.         3.32821489]]\n",
            "V:\n",
            "[[-0.59455781 -0.80405286]\n",
            " [ 0.80405286 -0.59455781]]\n"
          ]
        }
      ]
    },
    {
      "cell_type": "markdown",
      "source": [
        "Definimos el círculo unitario con el código pertinente, invocanto a la función  auxiliar `graficarMatrices`, vamos a aplocar la primer transformación \n",
        "\n",
        "#### Definiendo la primer transformación: 1º Rotación  (V)\n",
        "La primer transformación que efectúa el cálculo es $V$ y es una **rotación**\n",
        "* Para ello hay que invocar a la función auxiliar y usar como parámetro a la variable V previamente declarada para el cálculo `np.linalg.svd()` \n",
        "\n",
        " Asi:  `graficarMatriz(V)` *Agregando sus respectivos límites en los ejes y la función show*\n",
        "\n",
        "#### Definiendo la Escala (diagonal D)\n",
        "La diagonal $D$ Aumenta , amplifica ó reduce nuestro espacio\n",
        "* A esto se le llama **escala**\n",
        "\n",
        "Dado que es una matriz identidad, es necesario calcular la matriz diagonal $D$ con el producto interno con $V$\n",
        "* Esto es ir reconstruytendo la transformación que primero hizo $V$ y después aplicarle $D$\n",
        "\n",
        "* * Como esto está **escalando** hay que aumentas el límite de los ejes en `plt.xlim/ylim`\n",
        "\n",
        " Así `graficarMatriz(np.diag(D).dot(V))`*Agregando sus respectivos límites en los ejes y la función show*\n",
        "\n",
        "#### Definiendo la segunda transformación: Segunda rotación (U)\n",
        "La segunda rotación viene dada por $U$, que es la que figura más a la izquierda dentro de loq ue nos devuelve la fórmula de la función `np.linalg.svd()`\n",
        "\n",
        "Para calcularla hay que invocar a la función auxiliar, aplicando el producto interno del cálculo anterior definido en la escala:\n",
        "\n",
        " * `graficarMatriz(U.dot(np.diag(D).dot(V))` *Agregando sus respectivos límites en los ejes y la función show*\n",
        "\n",
        " \n",
        "\n",
        "Conclución: $A_{transformada} = U \\cdot  (\\text {dot}(\\text {diag}(D) \\cdot \\text{dot}(V) )$ "
      ],
      "metadata": {
        "id": "U2nViDfKjuhV"
      }
    },
    {
      "cell_type": "code",
      "source": [
        "# Circulo unitario\n",
        "print(f' Círculo unitario:')\n",
        "graficarMatriz(np.array([[1,0],[0,1]]))\n",
        "\n",
        "plt.xlim(-1.5 , 1.5)\n",
        "plt.ylim(-1.5, 1.5)\n",
        "plt.show()"
      ],
      "metadata": {
        "colab": {
          "base_uri": "https://localhost:8080/",
          "height": 287
        },
        "id": "1Tt6EPjjh9Gj",
        "outputId": "fab41b70-465d-4434-fb66-63890de61168"
      },
      "execution_count": null,
      "outputs": [
        {
          "output_type": "stream",
          "name": "stdout",
          "text": [
            " Círculo unitario:\n"
          ]
        },
        {
          "output_type": "display_data",
          "data": {
            "text/plain": [
              "<Figure size 432x288 with 1 Axes>"
            ],
            "image/png": "[encoded data removed]"
          },
          "metadata": {
            "needs_background": "light"
          }
        }
      ]
    },
    {
      "cell_type": "markdown",
      "source": [
        "Obtenemos el círculo unitario (desde aquí iniciamos)  "
      ],
      "metadata": {
        "id": "adaw71UzvSma"
      }
    },
    {
      "cell_type": "code",
      "source": [
        "# primer transformación: primer rotación en (V)\n",
        "print(f' 1º Rotación V:')\n",
        "graficarMatriz(V)\n",
        "\n",
        "plt.xlim(-1.5 , 1.5)\n",
        "plt.ylim(-1.5, 1.5)\n",
        "plt.show()"
      ],
      "metadata": {
        "colab": {
          "base_uri": "https://localhost:8080/",
          "height": 287
        },
        "id": "YKs0V3FenA8u",
        "outputId": "f1914b27-1a93-44ee-96f0-8e09b3921fc4"
      },
      "execution_count": null,
      "outputs": [
        {
          "output_type": "stream",
          "name": "stdout",
          "text": [
            " 1º Rotación V:\n"
          ]
        },
        {
          "output_type": "display_data",
          "data": {
            "text/plain": [
              "<Figure size 432x288 with 1 Axes>"
            ],
            "image/png": "[encoded data removed]"
          },
          "metadata": {
            "needs_background": "light"
          }
        }
      ]
    },
    {
      "cell_type": "markdown",
      "source": [
        "Después aplicamos la primer rotación $V$ , lo que vemos es que al aplicar $V$ nuestro vector en los ejes $x, y$ giraron\n",
        "* Si quisiéramos, podríamos calcular el ángulo por el cuál está girando. esta cálculo se puede hacer usando el producto interno y la norma  "
      ],
      "metadata": {
        "id": "4S41tueSvfG4"
      }
    },
    {
      "cell_type": "code",
      "source": [
        "# Escala (D) \n",
        "print(f' Escala (D): diagonal D * producto interno de V:')\n",
        "\n",
        "graficarMatriz(np.diag(D).dot(V))\n",
        "\n",
        "plt.xlim(-10,10)\n",
        "plt.ylim(-5,5)\n",
        "plt.show()"
      ],
      "metadata": {
        "colab": {
          "base_uri": "https://localhost:8080/",
          "height": 283
        },
        "id": "v8ppgwWsom0F",
        "outputId": "0185a3be-c67e-4948-8437-0d6671695cc4"
      },
      "execution_count": null,
      "outputs": [
        {
          "output_type": "stream",
          "name": "stdout",
          "text": [
            " Escala (D): diagonal D * producto interno de V:\n"
          ]
        },
        {
          "output_type": "display_data",
          "data": {
            "text/plain": [
              "<Figure size 432x288 with 1 Axes>"
            ],
            "image/png": "[encoded data removed]"
          },
          "metadata": {
            "needs_background": "light"
          }
        }
      ]
    },
    {
      "cell_type": "markdown",
      "source": [
        "Cuando aplicamos $D$ vemos que lo amplificó, hizo un aumento de escala, no en todas las direcciones de la misma forma\n",
        "* en el eje $y$ lo aumentó de una manera y en el  $x$ en otra  "
      ],
      "metadata": {
        "id": "Hz2bN9kzwIAU"
      }
    },
    {
      "cell_type": "code",
      "source": [
        "# Segunda rotación (U) \n",
        "print(f' Segunda rotación: U , producto interno de (diagonal D * producto interno de V):')\n",
        "\n",
        "graficarMatriz(U.dot(np.diag(D).dot(V)))\n",
        "\n",
        "plt.xlim(-10,10)\n",
        "plt.ylim(-7,7)\n",
        "plt.show()\n",
        "\n",
        "graficarMatriz(A)\n",
        "\n",
        "plt.xlim(-10,10)\n",
        "plt.ylim(-7,7)\n",
        "plt.show()"
      ],
      "metadata": {
        "colab": {
          "base_uri": "https://localhost:8080/",
          "height": 531
        },
        "id": "7Jvef7bms07t",
        "outputId": "3bf92f8a-880a-4e32-987d-845ec6e88d24"
      },
      "execution_count": null,
      "outputs": [
        {
          "output_type": "stream",
          "name": "stdout",
          "text": [
            " Segunda rotación: U , producto interno de (diagonal D * producto interno de V):\n"
          ]
        },
        {
          "output_type": "display_data",
          "data": {
            "text/plain": [
              "<Figure size 432x288 with 1 Axes>"
            ],
            "image/png": "[encoded data removed]"
          },
          "metadata": {
            "needs_background": "light"
          }
        },
        {
          "output_type": "display_data",
          "data": {
            "text/plain": [
              "<Figure size 432x288 with 1 Axes>"
            ],
            "image/png": "[encoded data removed]"
          },
          "metadata": {
            "needs_background": "light"
          }
        }
      ]
    },
    {
      "cell_type": "markdown",
      "source": [
        "Para finalmente cuando aplicamos $U$ tenemos de generar esta rotación \n",
        "* Lo que estaba antes del lado negativo, ahora quedo del lado positivo\n",
        "\n",
        "Al comparar que el resultado final después de aplicar $U$, coincide con el que obtuvimos al calcular $A$\n",
        "\n",
        "*Hemos podido ver que la rotación ó transformación generada por la matriz A corresponde a lo que también hacen la matrices al componer todas sus distintas transformaciones:* \n",
        "* *las de los valores singulares donde V provoca una primer rotación, D agranda el espacio en un sentido y en otro lo achica, para final mente U terminar de rotarlo y darnos el mismo efecto que A sola nos había propuesto*"
      ],
      "metadata": {
        "id": "jS1PsWYAwdsw"
      }
    },
    {
      "cell_type": "markdown",
      "source": [
        "### Interpretando los valores singulares\n",
        "\n",
        "En la descomposición SVD vimos que obtenemos tres matrices: V,D,U  donde\n",
        "* D es una matriz diagonal y está compuesta por los valores singulares \n",
        "\n",
        "Análisis del efecto que estos valores singulares están teniendo en la tranformación total \n",
        "\n",
        "Se estará trabajadno con la misma matriz:\n",
        "\n",
        "  $ A= \\begin {bmatrix} 3 &7 \\\\ 5 & 2 \\end{bmatrix}$\n",
        "`A = np.array([[ 3 , 7 ],[ 5 , 2 ]])` \n",
        "\n",
        "Haciendo la descmposición: `U,D,V = np.linalg.svd(A)`\n",
        "Una vez calculados los valores singulares con la función `np.linalg.svd()`. \n",
        "Analizar qué es lo que nos devuelven cada uno de los componentes de la diagonal: \n",
        "* `D[0] , D[1]`\n",
        "\n",
        "R:\n",
        " \n",
        " $D[0] = 8.7133796929634 $\n",
        " \n",
        " $D[1] = 3.3282148858288965$\n",
        "\n",
        " _ \n",
        "\n",
        "### Definiendo u1\n",
        " Si definimos $\\large u_1$ como:\n",
        "* el vector que tiene en su primer coordenada a $D[0]\\cdot U[0,0]$\n",
        "* y en su segunda coordenada $D[0]\\cdot U[0,1]$\n",
        "* * estas coordenadas equivalen a $x_1$ del valor singular [0]\n",
        "\n",
        "siendo : $\\large u_1 = (D[0]\\cdot U[0,0]) , (D[0]\\cdot U[0,1])$\n",
        "\n",
        "Lo que vemos es que $\\large u_1$ está siendo transformado por $D[0]$ se puede amplificar, ó se puede achicar\n",
        "\n",
        "Analizando qué es lo que está haciendo A en las otras coordenadas: $(A[0,0])$ , ($ A[0,1]) $\n",
        "* comparando $A$ con $\\large u1$\n",
        "\n",
        "_ \n",
        "\n",
        "### Definiendo v1\n",
        "Por otro lado $\\large v_1$ lo definimos como:\n",
        "* el vector que tiene en su primer coordenada a $D[1]\\cdot U[1,0]$\n",
        "* y en su segunda coordenada $D[0]\\cdot U[1,1]$\n",
        "* * estas coordenadas equivalen a $y_1$ de valor singular [1]\n",
        "\n",
        "siendo : $\\large u_1 = (D[1]\\cdot U[1,0]) , (D[0]\\cdot U[1,1])$\n",
        "\n",
        "_ \n",
        "\n",
        "Analizando qué es lo que está haciendo A en las otras coordenadas: \n",
        "\n",
        "$(A[0,1])$ , ($ A[1,1]) $\n",
        "* comparando A con $\\large v_1$\n",
        "\n",
        "\n",
        "\n"
      ],
      "metadata": {
        "id": "lj_32yl6yHOx"
      }
    },
    {
      "cell_type": "code",
      "source": [
        "print(f' matriz A:\\n{A}')\n",
        "print(f' D[0]: {D[0]} \\n D[1]: {D[1]} ')\n",
        "\n",
        "u1 = [D[0]* U[0,0], D[0]* U[0,1]] # coordenadas x1\n",
        "v1 = [D[1]* U[1,0], D[1]* U[1,1]]\n",
        "\n",
        "print(f'\\n A[0,0]:{A[0,0]} \\n A[1,0]:{A[1,0]}')\n",
        "print(f' u1:{u1}\\n') # es el que estamos transformando\n",
        "print(f'\\n A[0,1]:{A[0,1]} \\n A[1,1]:{A[1,1]}')\n",
        "print(f' v1:{v1}')\n"
      ],
      "metadata": {
        "colab": {
          "base_uri": "https://localhost:8080/"
        },
        "id": "tXWL7WMf5ZoG",
        "outputId": "887c0422-68b1-43d6-a4ea-79421fc9192f"
      },
      "execution_count": null,
      "outputs": [
        {
          "output_type": "stream",
          "name": "stdout",
          "text": [
            " matriz A:\n",
            "[[3 7]\n",
            " [5 2]]\n",
            " D[0]: 8.7133796929634 \n",
            " D[1]: 3.3282148858288965 \n",
            "\n",
            " A[0,0]:3 \n",
            " A[1,0]:5\n",
            " u1:[-7.4120434792975685, -4.580894796297923]\n",
            "\n",
            "\n",
            " A[0,1]:7 \n",
            " A[1,1]:2\n",
            " v1:[-1.7497461132982814, 2.8311486829996433]\n"
          ]
        }
      ]
    },
    {
      "cell_type": "markdown",
      "source": [
        "Estos serían los efectos que $A$ está efectuando sobre $U$ o sea los valores singulares\n",
        "* Es decir que estos son los efectos que estamos teniendo por parte de la diagonal $D$ (valores singulares)\n",
        "\n",
        "### Graficar valores \n",
        "invocando a la función auxiliar para graficar matrices, graficaremos la matriz $A$ que es la que nos da transformación de nuestro círculo unitario\n",
        "* y por medio de la otra función auxiliar para graficar vectores con los parámetros: \n",
        "* los vectores $\\large u_1$ y $\\large v_1$\n",
        "* Los colores\n",
        "\n",
        "Dado que vamos a tener muchos vectores, hay que agregar una \"leyenda\" (texto descripción) a cada uno de los vectores usando la función `text()` de la librería *matplotlib* como parámetros:\n",
        "* especificar las coordenadas columna $[3,5]$ \n",
        "* con el keyword `r\"el vector\"`: ( especificando el vector: u1)\n",
        "* * Es puede agregar el formato LaTEX al texto con \"$$\"\n",
        "* * de la siguiente forma `r\"$u_1$\"`\n",
        "* con el keyword `size = `especificar el tamaño de la letra (18)\n",
        "\n",
        "quedaría de la siguiente forma: `plt.text(3,5, r\"$u_1$\", size = 18)`\n",
        "\n",
        "_\n",
        "\n",
        "hacer lo mismo, agregando texto para el vector $\\large v_1$\n",
        "\n",
        "quedaría de la siguiente forma: `plt.text(7,2, r\"$v_1$\", size = 18)`\n",
        "\n",
        "\n",
        "_\n",
        "\n",
        "Nuevamente, hay que hacer lo mismo pero para los vectores transformados para poder identificar la trayectoria de cada uno de ellos\n",
        "\n",
        "* Estos serían los valores singulares que modifican a: $\\large u_1$ y $\\large v_1$\n",
        "* * vector $\\large u_1$:  $D(u_1)$ \n",
        "* * vector $\\large v_1$:  $D(v_1)$ \n",
        "\n",
        "de la siguiente forma:\n",
        "\n",
        "`plt.text(-5,-4 , r\"$D(u_1)$\" , size = 18)` \n",
        "\n",
        "`plt.text(-4,-1, r\"$D(v_1)$\" , size = 18)`\n",
        "\n",
        "definir los límites de el gráfico `plt.limx /ylim`\n",
        "\n"
      ],
      "metadata": {
        "id": "GMCfIi3bErRn"
      }
    },
    {
      "cell_type": "code",
      "source": [
        "graficarMatriz(A)\n",
        "graficarVectores([u1 , v1], cols= ['blue', 'red'])\n",
        "\n",
        "plt.text(3,5, r\"$u_1$\", size=18)\n",
        "plt.text(7,2, r\"$v_1$\", size=18)\n",
        "\n",
        "plt.text(-5,-4 , r\"$D(u_1)$\" , size = 18)\n",
        "plt.text(-4,1 , r\"$D(v_1)$\" , size = 18)\n",
        "\n",
        "plt.xlim(-12 , 12)\n",
        "plt.ylim(-8,8)\n",
        "plt.show()"
      ],
      "metadata": {
        "colab": {
          "base_uri": "https://localhost:8080/",
          "height": 269
        },
        "id": "OTXGy89mEqy0",
        "outputId": "c5dcd924-b2fc-4264-cc85-deefc3aa8e86"
      },
      "execution_count": null,
      "outputs": [
        {
          "output_type": "display_data",
          "data": {
            "text/plain": [
              "<Figure size 432x288 with 1 Axes>"
            ],
            "image/png": "[encoded data removed]"
          },
          "metadata": {
            "needs_background": "light"
          }
        }
      ]
    },
    {
      "cell_type": "markdown",
      "source": [
        "Lo que vemos es  es que  $\\large v_1$ sufre una contración (reducción) por parte de nuestro valor singular y eso se puede observar  al comparar las coorednadas $A$ con $\\large v_1$\n",
        "\n",
        "Recordando:\n",
        "\n",
        "    Al comparar que el resultado final después de aplicar 𝑈, coincide con el que obtuvimos al calcular 𝐴\n",
        "\n",
        "    Hemos podido ver que la rotación ó transformación generada por la matriz A corresponde a lo que también hacen\n",
        "    las matrices al componer todas sus distintas transformaciones:\n",
        "\n",
        "    * las de los valores singulares donde V provoca una primer rotación, D agranda el espacio en un sentido y en otro \n",
        "    lo achica, para final mente U terminar de rotarlo y darnos el mismo efecto que A sola nos había propuesto\n",
        "\n",
        "\n",
        "\n",
        "  siendo:\n",
        "\n",
        "$A[1,0], A[1,1] = [7,2]$\n",
        "\n",
        "multiplicando las coordenadas por el valor singular:  $\\large v_1$ $= [D[1]* U[1,0], D[1]* U[1,1]]$\n",
        "\n",
        " A partir de este cálculo obtenemos: `v1:[-1.7497461132982814, 2.8311486829996433]`\n",
        "\n",
        "Es el valor singular $D[1]$ aplicado  nuestra base: $U[1,0]$, y $D_1$ aplicado a la otra\n",
        "* Esto es lo que nos está dando las coordenadas del vector, y cómo \"v1\" está modificando su amplitud\n",
        "\n",
        "_\n",
        "\n",
        "\n",
        "Lo mismo ocurre en el caso de $\\large u_1$, dado que el valor es mucho más grande, se ve amplificado\n",
        "* La rotación se debe \n",
        "\n",
        "\n"
      ],
      "metadata": {
        "id": "Hq0i9OwXM5T-"
      }
    },
    {
      "cell_type": "markdown",
      "source": [
        "Recordatorio: Se habia dicho que D escala (amplia o reduce) la transformación.  En este sentido queremos ver como cambia D a U. ¿Y cómo vemos este efecto? Pues con un simple producto interno\n",
        "* A continuaión se demuestra cómo esos vectores $u_1 , v_1$ no son más que las filas del producto interno de $D \\cdot U$\n",
        "\n",
        "`u1 = [D[0]*U[0,0] , D[0,1]*U]` $u_1 = [-7.4120434792975685, -4.580894796297923]\n",
        "$\n",
        "\n",
        "`v1 = [D[1]*U[1,0] , D[1,1]*U]` $v_1 = [-1.7497461132982814, 2.8311486829996433]$\n",
        "\n",
        "_ \n",
        "\n",
        "`np.diag(D).dot(U)` $= \\begin {bmatrix}-7.41204348 &-4.5808948 \\\\\n",
        " -1.74974611 & 2.83114868 \\end{bmatrix}$\n",
        "\n"
      ],
      "metadata": {
        "id": "cisANYFST96x"
      }
    },
    {
      "cell_type": "markdown",
      "source": [
        "\n",
        "*El análisis que estamos haciendo sobre el efecto que tienen los valores singulares lo estamos haciendo sobre los vectores que ya han tenido una transformación* \n",
        "\n",
        "*¿Qué transformación es esta? Es la transformación que hace primero \"A\"*\n",
        "*  *cuando descomponenmos, tenemos una combinación de transformaciones que es lo que hace cada una de estas matrices* \n",
        "\n",
        "*esta parte es donde estamos combinando el efecto con \"D\"*\n",
        "\n",
        " *Lo que estamos viendo también, es que \"D\" está teniendo un efecto distinto en cada uno de los ejes*  \n",
        "\n"
      ],
      "metadata": {
        "id": "QRJg-laPT_5q"
      }
    },
    {
      "cell_type": "code",
      "source": [
        "prod_int_UD = np.diag(D).dot(U)\n",
        "print(prod_int_UD)"
      ],
      "metadata": {
        "colab": {
          "base_uri": "https://localhost:8080/"
        },
        "id": "EAnqG-l5U36w",
        "outputId": "04fc7e37-a8f5-412f-dae6-01bbcfe73a62"
      },
      "execution_count": null,
      "outputs": [
        {
          "output_type": "stream",
          "name": "stdout",
          "text": [
            "[[-7.41204348 -4.5808948 ]\n",
            " [-1.74974611  2.83114868]]\n"
          ]
        }
      ]
    }
  ]
}